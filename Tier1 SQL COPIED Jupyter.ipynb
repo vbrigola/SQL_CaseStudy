{
 "cells": [
  {
   "cell_type": "code",
   "execution_count": 1,
   "id": "b77abdc5-b709-463e-bc6e-6cab634f716b",
   "metadata": {},
   "outputs": [
    {
     "name": "stdout",
     "output_type": "stream",
     "text": [
      "2.6.0\n",
      "2. Query all tasks\n",
      "(0, 'Tennis Court 1', 5, 25, 10000, 200)\n",
      "(1, 'Tennis Court 2', 5, 25, 8000, 200)\n",
      "(2, 'Badminton Court', 0, 15.5, 4000, 50)\n",
      "(3, 'Table Tennis', 0, 5, 320, 10)\n",
      "(4, 'Massage Room 1', 9.9, 80, 4000, 3000)\n",
      "(5, 'Massage Room 2', 9.9, 80, 4000, 3000)\n",
      "(6, 'Squash Court', 3.5, 17.5, 5000, 80)\n",
      "(7, 'Snooker Table', 0, 5, 450, 15)\n",
      "(8, 'Pool Table', 0, 5, 400, 15)\n"
     ]
    },
    {
     "name": "stderr",
     "output_type": "stream",
     "text": [
      "/var/folders/fs/89crt26n7g91mxjc324q7fl00000gn/T/ipykernel_52293/1913378692.py:14: DeprecationWarning: version is deprecated and will be removed in Python 3.14\n",
      "  print(sqlite3.version)\n"
     ]
    }
   ],
   "source": [
    "import sqlite3\n",
    "from sqlite3 import Error\n",
    "\n",
    " \n",
    "def create_connection(db_file):\n",
    "    \"\"\" create a database connection to the SQLite database\n",
    "        specified by the db_file\n",
    "    :param db_file: database file\n",
    "    :return: Connection object or None\n",
    "    \"\"\"\n",
    "    conn = None\n",
    "    try:\n",
    "        conn = sqlite3.connect(db_file)\n",
    "        print(sqlite3.version)\n",
    "    except Error as e:\n",
    "        print(e)\n",
    " \n",
    "    return conn\n",
    "\n",
    " \n",
    "def select_all_tasks(conn):\n",
    "    \"\"\"\n",
    "    Query all rows in the tasks table\n",
    "    :param conn: the Connection object\n",
    "    :return:\n",
    "    \"\"\"\n",
    "    cur = conn.cursor()\n",
    "    \n",
    "    query1 = \"\"\"\n",
    "        SELECT *\n",
    "        FROM FACILITIES\n",
    "        \"\"\"\n",
    "    cur.execute(query1)\n",
    " \n",
    "    rows = cur.fetchall()\n",
    " \n",
    "    for row in rows:\n",
    "        print(row)\n",
    "\n",
    "\n",
    "def main():\n",
    "    database = \"sqlite_db_pythonsqlite.db\"\n",
    " \n",
    "    # create a database connection\n",
    "    conn = create_connection(database)\n",
    "    with conn: \n",
    "        print(\"2. Query all tasks\")\n",
    "        select_all_tasks(conn)\n",
    " \n",
    " \n",
    "if __name__ == '__main__':\n",
    "    main()"
   ]
  },
  {
   "cell_type": "code",
   "execution_count": 9,
   "id": "267fd598-d420-4005-b876-eed90966fe76",
   "metadata": {},
   "outputs": [],
   "source": [
    "import sqlite3\n",
    "import pandas as pd\n",
    "import os"
   ]
  },
  {
   "cell_type": "code",
   "execution_count": 17,
   "id": "16ed6db8-49b1-4651-a34f-58f974c6c73b",
   "metadata": {},
   "outputs": [],
   "source": [
    "database = '/Users/torribrigola/Documents/SB_Dec9_Projects/SQLFiles Tier 1/sqlite_db_pythonsqlite.db'"
   ]
  },
  {
   "cell_type": "code",
   "execution_count": 19,
   "id": "d48ccb38-bddd-4477-958e-f14a5c7a556d",
   "metadata": {},
   "outputs": [
    {
     "name": "stdout",
     "output_type": "stream",
     "text": [
      "True\n"
     ]
    }
   ],
   "source": [
    "print(os.path.exists(database))"
   ]
  },
  {
   "cell_type": "code",
   "execution_count": 21,
   "id": "e8c258b1-d692-4931-a70d-9df864f393c1",
   "metadata": {},
   "outputs": [],
   "source": [
    "con = sqlite3.connect(database)"
   ]
  },
  {
   "cell_type": "code",
   "execution_count": 23,
   "id": "11f58806-4152-4ee5-a247-c2db81b2b6f2",
   "metadata": {},
   "outputs": [],
   "source": [
    "query = \"SELECt * FRoM Facilities;\""
   ]
  },
  {
   "cell_type": "code",
   "execution_count": 25,
   "id": "40c40e70-d1a6-4a70-9073-09db23950ca8",
   "metadata": {},
   "outputs": [],
   "source": [
    "df = pd.read_sql_query(query, con)"
   ]
  },
  {
   "cell_type": "code",
   "execution_count": 27,
   "id": "c3a081d6-4553-43b0-9050-e3e141e66870",
   "metadata": {},
   "outputs": [
    {
     "name": "stdout",
     "output_type": "stream",
     "text": [
      "   facid             name  membercost  guestcost  initialoutlay  \\\n",
      "0      0   Tennis Court 1         5.0       25.0          10000   \n",
      "1      1   Tennis Court 2         5.0       25.0           8000   \n",
      "2      2  Badminton Court         0.0       15.5           4000   \n",
      "3      3     Table Tennis         0.0        5.0            320   \n",
      "4      4   Massage Room 1         9.9       80.0           4000   \n",
      "5      5   Massage Room 2         9.9       80.0           4000   \n",
      "6      6     Squash Court         3.5       17.5           5000   \n",
      "7      7    Snooker Table         0.0        5.0            450   \n",
      "8      8       Pool Table         0.0        5.0            400   \n",
      "\n",
      "   monthlymaintenance  \n",
      "0                 200  \n",
      "1                 200  \n",
      "2                  50  \n",
      "3                  10  \n",
      "4                3000  \n",
      "5                3000  \n",
      "6                  80  \n",
      "7                  15  \n",
      "8                  15  \n"
     ]
    }
   ],
   "source": [
    "print(df)"
   ]
  },
  {
   "cell_type": "code",
   "execution_count": 53,
   "id": "8d911090-c56e-455d-8cf1-e0fc0159d76f",
   "metadata": {},
   "outputs": [],
   "source": [
    "# Q10: Produce a list of facilities with a total revenue less than 1000.\n",
    "# The output should include facility name and total revenue, sorted by revenue.\n",
    "# Guests (memid = 0) are charged guestcost, members are charged membercost.\n",
    "query_q10 = '''\n",
    "SELECT f.name AS facility_name,\n",
    "    SUM(\n",
    "        CASE \n",
    "            WHEN b.memid = 0 THEN b.slots * f.guestcost\n",
    "            ELSE b.slots * f.membercost\n",
    "        END\n",
    "    ) AS total_revenue\n",
    "FROM Bookings b\n",
    "JOIN Facilities f ON b.facid = f.facid\n",
    "GROUP BY f.name\n",
    "HAVING total_revenue < 1000\n",
    "ORDER BY total_revenue;\n",
    "'''"
   ]
  },
  {
   "cell_type": "code",
   "execution_count": 55,
   "id": "935531de-3f99-41ff-b8ef-7b5deb495518",
   "metadata": {},
   "outputs": [
    {
     "name": "stdout",
     "output_type": "stream",
     "text": [
      "Facilities with total revenue less than 1000:\n",
      "   facility_name  total_revenue\n",
      "0   Table Tennis            180\n",
      "1  Snooker Table            240\n",
      "2     Pool Table            270\n"
     ]
    }
   ],
   "source": [
    "df_q10 = pd.read_sql_query(query_q10, con)\n",
    "print(\"Facilities with total revenue less than 1000:\")\n",
    "print(df_q10)"
   ]
  },
  {
   "cell_type": "code",
   "execution_count": 57,
   "id": "26ea701a-0c73-4c42-8722-9cac066f7afe",
   "metadata": {},
   "outputs": [],
   "source": [
    "#/* Q11: Produce a report of members and who recommended them in alphabetic surname,firstname order */\n",
    "query_q11  = '''\n",
    "SELECT m.firstname, m.surname, m.recommendedby\n",
    "FROM Members m\n",
    "ORDER BY m.surname, m.firstname;\n",
    "'''"
   ]
  },
  {
   "cell_type": "code",
   "execution_count": 59,
   "id": "39446189-bc44-417b-a752-1c76f930458c",
   "metadata": {},
   "outputs": [
    {
     "name": "stdout",
     "output_type": "stream",
     "text": [
      "/nMembers and who recommended them:\n",
      "    firstname            surname recommendedby\n",
      "0    Florence              Bader             9\n",
      "1        Anne              Baker             9\n",
      "2     Timothy              Baker            13\n",
      "3         Tim             Boothe             3\n",
      "4      Gerald            Butters             1\n",
      "5        Joan             Coplin            16\n",
      "6       Erica            Crumpet             2\n",
      "7       Nancy               Dare             4\n",
      "8       David            Farrell              \n",
      "9      Jemima            Farrell              \n",
      "10      GUEST              GUEST              \n",
      "11    Matthew            Genting             5\n",
      "12       John               Hunt            30\n",
      "13      David              Jones             4\n",
      "14    Douglas              Jones            11\n",
      "15     Janice           Joplette             1\n",
      "16       Anna          Mackenzie             1\n",
      "17    Charles               Owen             1\n",
      "18      David             Pinker            13\n",
      "19  Millicent            Purview             2\n",
      "20        Tim             Rownam              \n",
      "21  Henrietta             Rumney            20\n",
      "22  Ramnaresh             Sarwin            15\n",
      "23     Darren              Smith              \n",
      "24     Darren              Smith              \n",
      "25       Jack              Smith             1\n",
      "26      Tracy              Smith              \n",
      "27     Ponder           Stibbons             6\n",
      "28     Burton              Tracy              \n",
      "29   Hyacinth         Tupperware              \n",
      "30      Henry  Worthington-Smyth             2\n"
     ]
    }
   ],
   "source": [
    "df_q11 = pd.read_sql_query(query_q11, con)\n",
    "print(\"/nMembers and who recommended them:\")\n",
    "print(df_q11)"
   ]
  },
  {
   "cell_type": "code",
   "execution_count": 65,
   "id": "19dc7e81-5e18-4b1b-aeae-05f64dda87ed",
   "metadata": {},
   "outputs": [],
   "source": [
    "#/* Q12: Find the facilities with their usage by member, but not guests */\n",
    "query_q12 = '''\n",
    "SELECT f.name AS fcility_name,\n",
    "        COUNT(b.memid) AS usage_count\n",
    "FROM Facilities f\n",
    "JOIN Bookings b on f.facid = b.facid\n",
    "WHERE b.memid !=0 -- Exclude guests\n",
    "GROUP BY f.name;\n",
    "'''"
   ]
  },
  {
   "cell_type": "code",
   "execution_count": 67,
   "id": "a3ea5a02-8ce0-45fc-a6ca-811c9ed97110",
   "metadata": {},
   "outputs": [
    {
     "name": "stdout",
     "output_type": "stream",
     "text": [
      "/nMembers and who recommended them:\n",
      "      fcility_name  usage_count\n",
      "0  Badminton Court          344\n",
      "1   Massage Room 1          421\n",
      "2   Massage Room 2           27\n",
      "3       Pool Table          783\n",
      "4    Snooker Table          421\n",
      "5     Squash Court          195\n",
      "6     Table Tennis          385\n",
      "7   Tennis Court 1          308\n",
      "8   Tennis Court 2          276\n"
     ]
    }
   ],
   "source": [
    "df_q12 = pd.read_sql_query(query_q12, con)\n",
    "print(\"/nMembers and who recommended them:\")\n",
    "print(df_q12)"
   ]
  },
  {
   "cell_type": "code",
   "execution_count": 69,
   "id": "f4a9a244-dc3c-48b2-98f4-ec440056aea4",
   "metadata": {},
   "outputs": [],
   "source": [
    "#/* Q13: Find the facilities usage by month, but not guests */\n",
    "query_q13 = '''\n",
    "SELECT f.name AS facility_name, \n",
    "    strftime('%Y-%m', b.starttime) AS month, \n",
    "    COUNT(b.memid) AS usage_count\n",
    "FROM Facilities f\n",
    "JOIN Bookings b on f.facid = b.facid\n",
    "WHERE b.memid != 0 -- Exclude guests\n",
    "GROUP BY f.name, month\n",
    "ORDER BY month;\n",
    "'''"
   ]
  },
  {
   "cell_type": "code",
   "execution_count": 71,
   "id": "bb6537a8-63b9-42e0-9863-2b6959403385",
   "metadata": {},
   "outputs": [
    {
     "name": "stdout",
     "output_type": "stream",
     "text": [
      "/nMembers and who recommended them:\n",
      "      facility_name    month  usage_count\n",
      "0   Badminton Court  2012-07           51\n",
      "1    Massage Room 1  2012-07           77\n",
      "2    Massage Room 2  2012-07            4\n",
      "3        Pool Table  2012-07          103\n",
      "4     Snooker Table  2012-07           68\n",
      "5      Squash Court  2012-07           23\n",
      "6      Table Tennis  2012-07           48\n",
      "7    Tennis Court 1  2012-07           65\n",
      "8    Tennis Court 2  2012-07           41\n",
      "9   Badminton Court  2012-08          132\n",
      "10   Massage Room 1  2012-08          153\n",
      "11   Massage Room 2  2012-08            9\n",
      "12       Pool Table  2012-08          272\n",
      "13    Snooker Table  2012-08          154\n",
      "14     Squash Court  2012-08           85\n",
      "15     Table Tennis  2012-08          143\n",
      "16   Tennis Court 1  2012-08          111\n",
      "17   Tennis Court 2  2012-08          109\n",
      "18  Badminton Court  2012-09          161\n",
      "19   Massage Room 1  2012-09          191\n",
      "20   Massage Room 2  2012-09           14\n",
      "21       Pool Table  2012-09          408\n",
      "22    Snooker Table  2012-09          199\n",
      "23     Squash Court  2012-09           87\n",
      "24     Table Tennis  2012-09          194\n",
      "25   Tennis Court 1  2012-09          132\n",
      "26   Tennis Court 2  2012-09          126\n"
     ]
    }
   ],
   "source": [
    "df_q13 = pd.read_sql_query(query_q13, con)\n",
    "print(\"/nMembers and who recommended them:\")\n",
    "print(df_q13)"
   ]
  },
  {
   "cell_type": "code",
   "execution_count": 73,
   "id": "d86b31f4-68f0-4246-a7cd-dd9b7ba6e1f3",
   "metadata": {},
   "outputs": [],
   "source": [
    "con.close()"
   ]
  },
  {
   "cell_type": "code",
   "execution_count": null,
   "id": "b868b425-effb-4a8a-a80d-2860dbe0a98a",
   "metadata": {},
   "outputs": [],
   "source": []
  }
 ],
 "metadata": {
  "kernelspec": {
   "display_name": "Python 3 (ipykernel)",
   "language": "python",
   "name": "python3"
  },
  "language_info": {
   "codemirror_mode": {
    "name": "ipython",
    "version": 3
   },
   "file_extension": ".py",
   "mimetype": "text/x-python",
   "name": "python",
   "nbconvert_exporter": "python",
   "pygments_lexer": "ipython3",
   "version": "3.12.7"
  }
 },
 "nbformat": 4,
 "nbformat_minor": 5
}
